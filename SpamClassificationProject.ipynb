{
  "cells": [
    {
      "cell_type": "markdown",
      "id": "zJWAZ2KQqzzM",
      "metadata": {
        "id": "zJWAZ2KQqzzM"
      },
      "source": [
        "# Zeinab Atef Abdallah&nbsp;&nbsp;&nbsp;&nbsp;&nbsp;ID : 211002157\n"
      ]
    },
    {
      "cell_type": "code",
      "execution_count": null,
      "id": "70f69176",
      "metadata": {
        "execution": {
          "iopub.execute_input": "2024-04-12T05:27:34.439757Z",
          "iopub.status.busy": "2024-04-12T05:27:34.439337Z",
          "iopub.status.idle": "2024-04-12T05:27:37.336911Z",
          "shell.execute_reply": "2024-04-12T05:27:37.335757Z"
        },
        "id": "70f69176",
        "papermill": {
          "duration": 2.918071,
          "end_time": "2024-04-12T05:27:37.340187",
          "exception": false,
          "start_time": "2024-04-12T05:27:34.422116",
          "status": "completed"
        },
        "tags": []
      },
      "outputs": [],
      "source": [
        "import pandas as pd\n",
        "import numpy as np\n",
        "import matplotlib.pyplot as plt\n",
        "import seaborn as sns"
      ]
    },
    {
      "cell_type": "code",
      "execution_count": null,
      "id": "1124c2c0",
      "metadata": {
        "execution": {
          "iopub.execute_input": "2024-04-12T05:27:37.373703Z",
          "iopub.status.busy": "2024-04-12T05:27:37.372883Z",
          "iopub.status.idle": "2024-04-12T05:27:37.421149Z",
          "shell.execute_reply": "2024-04-12T05:27:37.419561Z"
        },
        "id": "1124c2c0",
        "papermill": {
          "duration": 0.06869,
          "end_time": "2024-04-12T05:27:37.424249",
          "exception": false,
          "start_time": "2024-04-12T05:27:37.355559",
          "status": "completed"
        },
        "tags": []
      },
      "outputs": [],
      "source": [
        "df=pd.read_csv(\"spam.csv\")"
      ]
    },
    {
      "cell_type": "code",
      "execution_count": null,
      "id": "45c60550",
      "metadata": {
        "execution": {
          "iopub.execute_input": "2024-04-12T05:27:37.459662Z",
          "iopub.status.busy": "2024-04-12T05:27:37.459240Z",
          "iopub.status.idle": "2024-04-12T05:27:37.486340Z",
          "shell.execute_reply": "2024-04-12T05:27:37.484922Z"
        },
        "id": "45c60550",
        "outputId": "05455f47-08ad-4c67-fb7d-85ee92fd6847",
        "papermill": {
          "duration": 0.048095,
          "end_time": "2024-04-12T05:27:37.489793",
          "exception": false,
          "start_time": "2024-04-12T05:27:37.441698",
          "status": "completed"
        },
        "tags": []
      },
      "outputs": [
        {
          "data": {
            "text/html": [
              "<div>\n",
              "<style scoped>\n",
              "    .dataframe tbody tr th:only-of-type {\n",
              "        vertical-align: middle;\n",
              "    }\n",
              "\n",
              "    .dataframe tbody tr th {\n",
              "        vertical-align: top;\n",
              "    }\n",
              "\n",
              "    .dataframe thead th {\n",
              "        text-align: right;\n",
              "    }\n",
              "</style>\n",
              "<table border=\"1\" class=\"dataframe\">\n",
              "  <thead>\n",
              "    <tr style=\"text-align: right;\">\n",
              "      <th></th>\n",
              "      <th>v1</th>\n",
              "      <th>v2</th>\n",
              "      <th>Unnamed: 2</th>\n",
              "      <th>Unnamed: 3</th>\n",
              "      <th>Unnamed: 4</th>\n",
              "    </tr>\n",
              "  </thead>\n",
              "  <tbody>\n",
              "    <tr>\n",
              "      <th>0</th>\n",
              "      <td>ham</td>\n",
              "      <td>Go until jurong point, crazy.. Available only ...</td>\n",
              "      <td>NaN</td>\n",
              "      <td>NaN</td>\n",
              "      <td>NaN</td>\n",
              "    </tr>\n",
              "    <tr>\n",
              "      <th>1</th>\n",
              "      <td>ham</td>\n",
              "      <td>Ok lar... Joking wif u oni...</td>\n",
              "      <td>NaN</td>\n",
              "      <td>NaN</td>\n",
              "      <td>NaN</td>\n",
              "    </tr>\n",
              "    <tr>\n",
              "      <th>2</th>\n",
              "      <td>spam</td>\n",
              "      <td>Free entry in 2 a wkly comp to win FA Cup fina...</td>\n",
              "      <td>NaN</td>\n",
              "      <td>NaN</td>\n",
              "      <td>NaN</td>\n",
              "    </tr>\n",
              "    <tr>\n",
              "      <th>3</th>\n",
              "      <td>ham</td>\n",
              "      <td>U dun say so early hor... U c already then say...</td>\n",
              "      <td>NaN</td>\n",
              "      <td>NaN</td>\n",
              "      <td>NaN</td>\n",
              "    </tr>\n",
              "    <tr>\n",
              "      <th>4</th>\n",
              "      <td>ham</td>\n",
              "      <td>Nah I don't think he goes to usf, he lives aro...</td>\n",
              "      <td>NaN</td>\n",
              "      <td>NaN</td>\n",
              "      <td>NaN</td>\n",
              "    </tr>\n",
              "    <tr>\n",
              "      <th>...</th>\n",
              "      <td>...</td>\n",
              "      <td>...</td>\n",
              "      <td>...</td>\n",
              "      <td>...</td>\n",
              "      <td>...</td>\n",
              "    </tr>\n",
              "    <tr>\n",
              "      <th>5567</th>\n",
              "      <td>spam</td>\n",
              "      <td>This is the 2nd time we have tried 2 contact u...</td>\n",
              "      <td>NaN</td>\n",
              "      <td>NaN</td>\n",
              "      <td>NaN</td>\n",
              "    </tr>\n",
              "    <tr>\n",
              "      <th>5568</th>\n",
              "      <td>ham</td>\n",
              "      <td>Will Ì_ b going to esplanade fr home?</td>\n",
              "      <td>NaN</td>\n",
              "      <td>NaN</td>\n",
              "      <td>NaN</td>\n",
              "    </tr>\n",
              "    <tr>\n",
              "      <th>5569</th>\n",
              "      <td>ham</td>\n",
              "      <td>Pity, * was in mood for that. So...any other s...</td>\n",
              "      <td>NaN</td>\n",
              "      <td>NaN</td>\n",
              "      <td>NaN</td>\n",
              "    </tr>\n",
              "    <tr>\n",
              "      <th>5570</th>\n",
              "      <td>ham</td>\n",
              "      <td>The guy did some bitching but I acted like i'd...</td>\n",
              "      <td>NaN</td>\n",
              "      <td>NaN</td>\n",
              "      <td>NaN</td>\n",
              "    </tr>\n",
              "    <tr>\n",
              "      <th>5571</th>\n",
              "      <td>ham</td>\n",
              "      <td>Rofl. Its true to its name</td>\n",
              "      <td>NaN</td>\n",
              "      <td>NaN</td>\n",
              "      <td>NaN</td>\n",
              "    </tr>\n",
              "  </tbody>\n",
              "</table>\n",
              "<p>5572 rows × 5 columns</p>\n",
              "</div>"
            ],
            "text/plain": [
              "        v1                                                 v2 Unnamed: 2  \\\n",
              "0      ham  Go until jurong point, crazy.. Available only ...        NaN   \n",
              "1      ham                      Ok lar... Joking wif u oni...        NaN   \n",
              "2     spam  Free entry in 2 a wkly comp to win FA Cup fina...        NaN   \n",
              "3      ham  U dun say so early hor... U c already then say...        NaN   \n",
              "4      ham  Nah I don't think he goes to usf, he lives aro...        NaN   \n",
              "...    ...                                                ...        ...   \n",
              "5567  spam  This is the 2nd time we have tried 2 contact u...        NaN   \n",
              "5568   ham              Will Ì_ b going to esplanade fr home?        NaN   \n",
              "5569   ham  Pity, * was in mood for that. So...any other s...        NaN   \n",
              "5570   ham  The guy did some bitching but I acted like i'd...        NaN   \n",
              "5571   ham                         Rofl. Its true to its name        NaN   \n",
              "\n",
              "     Unnamed: 3 Unnamed: 4  \n",
              "0           NaN        NaN  \n",
              "1           NaN        NaN  \n",
              "2           NaN        NaN  \n",
              "3           NaN        NaN  \n",
              "4           NaN        NaN  \n",
              "...         ...        ...  \n",
              "5567        NaN        NaN  \n",
              "5568        NaN        NaN  \n",
              "5569        NaN        NaN  \n",
              "5570        NaN        NaN  \n",
              "5571        NaN        NaN  \n",
              "\n",
              "[5572 rows x 5 columns]"
            ]
          },
          "execution_count": 3,
          "metadata": {},
          "output_type": "execute_result"
        }
      ],
      "source": [
        "df"
      ]
    },
    {
      "cell_type": "code",
      "execution_count": null,
      "id": "1cb4269c",
      "metadata": {
        "execution": {
          "iopub.execute_input": "2024-04-12T05:27:37.526309Z",
          "iopub.status.busy": "2024-04-12T05:27:37.525512Z",
          "iopub.status.idle": "2024-04-12T05:27:37.532191Z",
          "shell.execute_reply": "2024-04-12T05:27:37.530659Z"
        },
        "id": "1cb4269c",
        "outputId": "616a1759-6f97-44a6-fa61-cc912f634573",
        "papermill": {
          "duration": 0.02773,
          "end_time": "2024-04-12T05:27:37.534765",
          "exception": false,
          "start_time": "2024-04-12T05:27:37.507035",
          "status": "completed"
        },
        "tags": []
      },
      "outputs": [
        {
          "data": {
            "text/plain": [
              "(5572, 5)"
            ]
          },
          "execution_count": 4,
          "metadata": {},
          "output_type": "execute_result"
        }
      ],
      "source": [
        "df.shape"
      ]
    },
    {
      "cell_type": "markdown",
      "id": "6db673bc",
      "metadata": {
        "id": "6db673bc",
        "papermill": {
          "duration": 0.017268,
          "end_time": "2024-04-12T05:27:37.568128",
          "exception": false,
          "start_time": "2024-04-12T05:27:37.550860",
          "status": "completed"
        },
        "tags": []
      },
      "source": [
        "**DATA CLEANING**"
      ]
    },
    {
      "cell_type": "code",
      "execution_count": null,
      "id": "74677ec6",
      "metadata": {
        "execution": {
          "iopub.execute_input": "2024-04-12T05:27:37.673350Z",
          "iopub.status.busy": "2024-04-12T05:27:37.672313Z",
          "iopub.status.idle": "2024-04-12T05:27:37.681786Z",
          "shell.execute_reply": "2024-04-12T05:27:37.680145Z"
        },
        "id": "74677ec6",
        "papermill": {
          "duration": 0.029894,
          "end_time": "2024-04-12T05:27:37.684456",
          "exception": false,
          "start_time": "2024-04-12T05:27:37.654562",
          "status": "completed"
        },
        "tags": []
      },
      "outputs": [],
      "source": [
        "# Dropping unnessary columns\n",
        "df.drop(columns=['Unnamed: 2','Unnamed: 3','Unnamed: 4'],inplace=True)"
      ]
    },
    {
      "cell_type": "code",
      "execution_count": null,
      "id": "04c1fa4e",
      "metadata": {
        "execution": {
          "iopub.execute_input": "2024-04-12T05:27:37.718473Z",
          "iopub.status.busy": "2024-04-12T05:27:37.717680Z",
          "iopub.status.idle": "2024-04-12T05:27:37.731340Z",
          "shell.execute_reply": "2024-04-12T05:27:37.730002Z"
        },
        "id": "04c1fa4e",
        "outputId": "02e46a3c-7b04-4fe4-b379-5dbea5c5622e",
        "papermill": {
          "duration": 0.034061,
          "end_time": "2024-04-12T05:27:37.734262",
          "exception": false,
          "start_time": "2024-04-12T05:27:37.700201",
          "status": "completed"
        },
        "tags": []
      },
      "outputs": [
        {
          "data": {
            "text/html": [
              "<div>\n",
              "<style scoped>\n",
              "    .dataframe tbody tr th:only-of-type {\n",
              "        vertical-align: middle;\n",
              "    }\n",
              "\n",
              "    .dataframe tbody tr th {\n",
              "        vertical-align: top;\n",
              "    }\n",
              "\n",
              "    .dataframe thead th {\n",
              "        text-align: right;\n",
              "    }\n",
              "</style>\n",
              "<table border=\"1\" class=\"dataframe\">\n",
              "  <thead>\n",
              "    <tr style=\"text-align: right;\">\n",
              "      <th></th>\n",
              "      <th>v1</th>\n",
              "      <th>v2</th>\n",
              "    </tr>\n",
              "  </thead>\n",
              "  <tbody>\n",
              "    <tr>\n",
              "      <th>0</th>\n",
              "      <td>ham</td>\n",
              "      <td>Go until jurong point, crazy.. Available only ...</td>\n",
              "    </tr>\n",
              "    <tr>\n",
              "      <th>1</th>\n",
              "      <td>ham</td>\n",
              "      <td>Ok lar... Joking wif u oni...</td>\n",
              "    </tr>\n",
              "    <tr>\n",
              "      <th>2</th>\n",
              "      <td>spam</td>\n",
              "      <td>Free entry in 2 a wkly comp to win FA Cup fina...</td>\n",
              "    </tr>\n",
              "    <tr>\n",
              "      <th>3</th>\n",
              "      <td>ham</td>\n",
              "      <td>U dun say so early hor... U c already then say...</td>\n",
              "    </tr>\n",
              "    <tr>\n",
              "      <th>4</th>\n",
              "      <td>ham</td>\n",
              "      <td>Nah I don't think he goes to usf, he lives aro...</td>\n",
              "    </tr>\n",
              "  </tbody>\n",
              "</table>\n",
              "</div>"
            ],
            "text/plain": [
              "     v1                                                 v2\n",
              "0   ham  Go until jurong point, crazy.. Available only ...\n",
              "1   ham                      Ok lar... Joking wif u oni...\n",
              "2  spam  Free entry in 2 a wkly comp to win FA Cup fina...\n",
              "3   ham  U dun say so early hor... U c already then say...\n",
              "4   ham  Nah I don't think he goes to usf, he lives aro..."
            ]
          },
          "execution_count": 7,
          "metadata": {},
          "output_type": "execute_result"
        }
      ],
      "source": [
        "df.head()"
      ]
    },
    {
      "cell_type": "code",
      "execution_count": null,
      "id": "8ccb60b3",
      "metadata": {
        "execution": {
          "iopub.execute_input": "2024-04-12T05:27:37.772052Z",
          "iopub.status.busy": "2024-04-12T05:27:37.771650Z",
          "iopub.status.idle": "2024-04-12T05:27:37.777751Z",
          "shell.execute_reply": "2024-04-12T05:27:37.776455Z"
        },
        "id": "8ccb60b3",
        "papermill": {
          "duration": 0.029495,
          "end_time": "2024-04-12T05:27:37.780686",
          "exception": false,
          "start_time": "2024-04-12T05:27:37.751191",
          "status": "completed"
        },
        "tags": []
      },
      "outputs": [],
      "source": [
        "# Changing column names\n",
        "df.rename(columns={'v1':'Target', 'v2':'Text'},inplace=True)"
      ]
    },
    {
      "cell_type": "code",
      "execution_count": null,
      "id": "fe6a87cb",
      "metadata": {
        "execution": {
          "iopub.execute_input": "2024-04-12T05:27:37.815833Z",
          "iopub.status.busy": "2024-04-12T05:27:37.815271Z",
          "iopub.status.idle": "2024-04-12T05:27:37.826727Z",
          "shell.execute_reply": "2024-04-12T05:27:37.825357Z"
        },
        "id": "fe6a87cb",
        "outputId": "cf848171-8ad8-4ec1-c13d-6e4ad66a2c94",
        "papermill": {
          "duration": 0.034224,
          "end_time": "2024-04-12T05:27:37.831069",
          "exception": false,
          "start_time": "2024-04-12T05:27:37.796845",
          "status": "completed"
        },
        "tags": []
      },
      "outputs": [
        {
          "data": {
            "text/html": [
              "<div>\n",
              "<style scoped>\n",
              "    .dataframe tbody tr th:only-of-type {\n",
              "        vertical-align: middle;\n",
              "    }\n",
              "\n",
              "    .dataframe tbody tr th {\n",
              "        vertical-align: top;\n",
              "    }\n",
              "\n",
              "    .dataframe thead th {\n",
              "        text-align: right;\n",
              "    }\n",
              "</style>\n",
              "<table border=\"1\" class=\"dataframe\">\n",
              "  <thead>\n",
              "    <tr style=\"text-align: right;\">\n",
              "      <th></th>\n",
              "      <th>Target</th>\n",
              "      <th>Text</th>\n",
              "    </tr>\n",
              "  </thead>\n",
              "  <tbody>\n",
              "    <tr>\n",
              "      <th>0</th>\n",
              "      <td>ham</td>\n",
              "      <td>Go until jurong point, crazy.. Available only ...</td>\n",
              "    </tr>\n",
              "    <tr>\n",
              "      <th>1</th>\n",
              "      <td>ham</td>\n",
              "      <td>Ok lar... Joking wif u oni...</td>\n",
              "    </tr>\n",
              "    <tr>\n",
              "      <th>2</th>\n",
              "      <td>spam</td>\n",
              "      <td>Free entry in 2 a wkly comp to win FA Cup fina...</td>\n",
              "    </tr>\n",
              "    <tr>\n",
              "      <th>3</th>\n",
              "      <td>ham</td>\n",
              "      <td>U dun say so early hor... U c already then say...</td>\n",
              "    </tr>\n",
              "    <tr>\n",
              "      <th>4</th>\n",
              "      <td>ham</td>\n",
              "      <td>Nah I don't think he goes to usf, he lives aro...</td>\n",
              "    </tr>\n",
              "  </tbody>\n",
              "</table>\n",
              "</div>"
            ],
            "text/plain": [
              "  Target                                               Text\n",
              "0    ham  Go until jurong point, crazy.. Available only ...\n",
              "1    ham                      Ok lar... Joking wif u oni...\n",
              "2   spam  Free entry in 2 a wkly comp to win FA Cup fina...\n",
              "3    ham  U dun say so early hor... U c already then say...\n",
              "4    ham  Nah I don't think he goes to usf, he lives aro..."
            ]
          },
          "execution_count": 9,
          "metadata": {},
          "output_type": "execute_result"
        }
      ],
      "source": [
        "df.head()"
      ]
    },
    {
      "cell_type": "code",
      "execution_count": null,
      "id": "d88d27ad",
      "metadata": {
        "execution": {
          "iopub.execute_input": "2024-04-12T05:27:37.867379Z",
          "iopub.status.busy": "2024-04-12T05:27:37.866933Z",
          "iopub.status.idle": "2024-04-12T05:27:37.879546Z",
          "shell.execute_reply": "2024-04-12T05:27:37.878330Z"
        },
        "id": "d88d27ad",
        "outputId": "801a0bdd-7cd4-4ff4-9768-4de1d5da08a7",
        "papermill": {
          "duration": 0.033307,
          "end_time": "2024-04-12T05:27:37.882141",
          "exception": false,
          "start_time": "2024-04-12T05:27:37.848834",
          "status": "completed"
        },
        "tags": []
      },
      "outputs": [
        {
          "data": {
            "text/plain": [
              "Target    0\n",
              "Text      0\n",
              "dtype: int64"
            ]
          },
          "execution_count": 10,
          "metadata": {},
          "output_type": "execute_result"
        }
      ],
      "source": [
        "# Checking for null values\n",
        "df.isna().sum()"
      ]
    },
    {
      "cell_type": "code",
      "execution_count": null,
      "id": "a5636698",
      "metadata": {
        "execution": {
          "iopub.execute_input": "2024-04-12T05:27:37.917897Z",
          "iopub.status.busy": "2024-04-12T05:27:37.917124Z",
          "iopub.status.idle": "2024-04-12T05:27:37.928881Z",
          "shell.execute_reply": "2024-04-12T05:27:37.927787Z"
        },
        "id": "a5636698",
        "outputId": "79169494-fa3e-4e31-ed64-a318bf955964",
        "papermill": {
          "duration": 0.031876,
          "end_time": "2024-04-12T05:27:37.931344",
          "exception": false,
          "start_time": "2024-04-12T05:27:37.899468",
          "status": "completed"
        },
        "tags": []
      },
      "outputs": [
        {
          "data": {
            "text/plain": [
              "403"
            ]
          },
          "execution_count": 11,
          "metadata": {},
          "output_type": "execute_result"
        }
      ],
      "source": [
        "# Checking Duplicate values\n",
        "df.duplicated().sum()"
      ]
    },
    {
      "cell_type": "code",
      "execution_count": null,
      "id": "c7ea731a",
      "metadata": {
        "execution": {
          "iopub.execute_input": "2024-04-12T05:27:37.968008Z",
          "iopub.status.busy": "2024-04-12T05:27:37.967513Z",
          "iopub.status.idle": "2024-04-12T05:27:37.977556Z",
          "shell.execute_reply": "2024-04-12T05:27:37.976229Z"
        },
        "id": "c7ea731a",
        "papermill": {
          "duration": 0.032352,
          "end_time": "2024-04-12T05:27:37.980376",
          "exception": false,
          "start_time": "2024-04-12T05:27:37.948024",
          "status": "completed"
        },
        "tags": []
      },
      "outputs": [],
      "source": [
        "# Drop Duplicate values\n",
        "df=df.drop_duplicates()"
      ]
    },
    {
      "cell_type": "code",
      "execution_count": null,
      "id": "49517418",
      "metadata": {
        "execution": {
          "iopub.execute_input": "2024-04-12T05:27:38.015959Z",
          "iopub.status.busy": "2024-04-12T05:27:38.015541Z",
          "iopub.status.idle": "2024-04-12T05:27:38.301156Z",
          "shell.execute_reply": "2024-04-12T05:27:38.299732Z"
        },
        "id": "49517418",
        "papermill": {
          "duration": 0.306635,
          "end_time": "2024-04-12T05:27:38.304152",
          "exception": false,
          "start_time": "2024-04-12T05:27:37.997517",
          "status": "completed"
        },
        "tags": []
      },
      "outputs": [],
      "source": [
        "# Converting Target column into numerical 0 and 1\n",
        "from sklearn.preprocessing import LabelEncoder\n",
        "encoder=LabelEncoder()"
      ]
    },
    {
      "cell_type": "code",
      "execution_count": null,
      "id": "048db313",
      "metadata": {
        "collapsed": true,
        "execution": {
          "iopub.execute_input": "2024-04-12T05:27:38.343064Z",
          "iopub.status.busy": "2024-04-12T05:27:38.342631Z",
          "iopub.status.idle": "2024-04-12T05:27:38.351213Z",
          "shell.execute_reply": "2024-04-12T05:27:38.350309Z"
        },
        "id": "048db313",
        "outputId": "4cabca73-51ae-47a1-8243-6d9ac5d859c2",
        "papermill": {
          "duration": 0.031427,
          "end_time": "2024-04-12T05:27:38.353769",
          "exception": false,
          "start_time": "2024-04-12T05:27:38.322342",
          "status": "completed"
        },
        "tags": []
      },
      "outputs": [
        {
          "name": "stderr",
          "output_type": "stream",
          "text": [
            "/tmp/ipykernel_18/1614955790.py:1: SettingWithCopyWarning: \n",
            "A value is trying to be set on a copy of a slice from a DataFrame.\n",
            "Try using .loc[row_indexer,col_indexer] = value instead\n",
            "\n",
            "See the caveats in the documentation: https://pandas.pydata.org/pandas-docs/stable/user_guide/indexing.html#returning-a-view-versus-a-copy\n",
            "  df['Target']=encoder.fit_transform(df['Target'])\n"
          ]
        }
      ],
      "source": [
        "df['Target']=encoder.fit_transform(df['Target'])"
      ]
    },
    {
      "cell_type": "code",
      "execution_count": null,
      "id": "8f21494a",
      "metadata": {
        "execution": {
          "iopub.execute_input": "2024-04-12T05:27:38.390384Z",
          "iopub.status.busy": "2024-04-12T05:27:38.389406Z",
          "iopub.status.idle": "2024-04-12T05:27:38.400519Z",
          "shell.execute_reply": "2024-04-12T05:27:38.399073Z"
        },
        "id": "8f21494a",
        "outputId": "37fd9c7b-3cdd-4d8c-b13a-76a6441167b8",
        "papermill": {
          "duration": 0.031631,
          "end_time": "2024-04-12T05:27:38.403250",
          "exception": false,
          "start_time": "2024-04-12T05:27:38.371619",
          "status": "completed"
        },
        "tags": []
      },
      "outputs": [
        {
          "data": {
            "text/html": [
              "<div>\n",
              "<style scoped>\n",
              "    .dataframe tbody tr th:only-of-type {\n",
              "        vertical-align: middle;\n",
              "    }\n",
              "\n",
              "    .dataframe tbody tr th {\n",
              "        vertical-align: top;\n",
              "    }\n",
              "\n",
              "    .dataframe thead th {\n",
              "        text-align: right;\n",
              "    }\n",
              "</style>\n",
              "<table border=\"1\" class=\"dataframe\">\n",
              "  <thead>\n",
              "    <tr style=\"text-align: right;\">\n",
              "      <th></th>\n",
              "      <th>Target</th>\n",
              "      <th>Text</th>\n",
              "    </tr>\n",
              "  </thead>\n",
              "  <tbody>\n",
              "    <tr>\n",
              "      <th>0</th>\n",
              "      <td>0</td>\n",
              "      <td>Go until jurong point, crazy.. Available only ...</td>\n",
              "    </tr>\n",
              "    <tr>\n",
              "      <th>1</th>\n",
              "      <td>0</td>\n",
              "      <td>Ok lar... Joking wif u oni...</td>\n",
              "    </tr>\n",
              "    <tr>\n",
              "      <th>2</th>\n",
              "      <td>1</td>\n",
              "      <td>Free entry in 2 a wkly comp to win FA Cup fina...</td>\n",
              "    </tr>\n",
              "    <tr>\n",
              "      <th>3</th>\n",
              "      <td>0</td>\n",
              "      <td>U dun say so early hor... U c already then say...</td>\n",
              "    </tr>\n",
              "    <tr>\n",
              "      <th>4</th>\n",
              "      <td>0</td>\n",
              "      <td>Nah I don't think he goes to usf, he lives aro...</td>\n",
              "    </tr>\n",
              "  </tbody>\n",
              "</table>\n",
              "</div>"
            ],
            "text/plain": [
              "   Target                                               Text\n",
              "0       0  Go until jurong point, crazy.. Available only ...\n",
              "1       0                      Ok lar... Joking wif u oni...\n",
              "2       1  Free entry in 2 a wkly comp to win FA Cup fina...\n",
              "3       0  U dun say so early hor... U c already then say...\n",
              "4       0  Nah I don't think he goes to usf, he lives aro..."
            ]
          },
          "execution_count": 15,
          "metadata": {},
          "output_type": "execute_result"
        }
      ],
      "source": [
        "df.head()"
      ]
    },
    {
      "cell_type": "markdown",
      "id": "d2b77129",
      "metadata": {
        "id": "d2b77129",
        "papermill": {
          "duration": 0.016636,
          "end_time": "2024-04-12T05:27:38.438011",
          "exception": false,
          "start_time": "2024-04-12T05:27:38.421375",
          "status": "completed"
        },
        "tags": []
      },
      "source": [
        "EXPLORATORY DATA ANALYSIS"
      ]
    },
    {
      "cell_type": "code",
      "execution_count": null,
      "id": "db74b5eb",
      "metadata": {
        "execution": {
          "iopub.execute_input": "2024-04-12T05:27:38.474007Z",
          "iopub.status.busy": "2024-04-12T05:27:38.473246Z",
          "iopub.status.idle": "2024-04-12T05:27:38.483436Z",
          "shell.execute_reply": "2024-04-12T05:27:38.482163Z"
        },
        "id": "db74b5eb",
        "outputId": "c62a4f2b-ea05-4734-f47f-21e35d8c7123",
        "papermill": {
          "duration": 0.031328,
          "end_time": "2024-04-12T05:27:38.486128",
          "exception": false,
          "start_time": "2024-04-12T05:27:38.454800",
          "status": "completed"
        },
        "tags": []
      },
      "outputs": [
        {
          "data": {
            "text/html": [
              "<div>\n",
              "<style scoped>\n",
              "    .dataframe tbody tr th:only-of-type {\n",
              "        vertical-align: middle;\n",
              "    }\n",
              "\n",
              "    .dataframe tbody tr th {\n",
              "        vertical-align: top;\n",
              "    }\n",
              "\n",
              "    .dataframe thead th {\n",
              "        text-align: right;\n",
              "    }\n",
              "</style>\n",
              "<table border=\"1\" class=\"dataframe\">\n",
              "  <thead>\n",
              "    <tr style=\"text-align: right;\">\n",
              "      <th></th>\n",
              "      <th>Target</th>\n",
              "      <th>Text</th>\n",
              "    </tr>\n",
              "  </thead>\n",
              "  <tbody>\n",
              "    <tr>\n",
              "      <th>0</th>\n",
              "      <td>0</td>\n",
              "      <td>Go until jurong point, crazy.. Available only ...</td>\n",
              "    </tr>\n",
              "    <tr>\n",
              "      <th>1</th>\n",
              "      <td>0</td>\n",
              "      <td>Ok lar... Joking wif u oni...</td>\n",
              "    </tr>\n",
              "    <tr>\n",
              "      <th>2</th>\n",
              "      <td>1</td>\n",
              "      <td>Free entry in 2 a wkly comp to win FA Cup fina...</td>\n",
              "    </tr>\n",
              "    <tr>\n",
              "      <th>3</th>\n",
              "      <td>0</td>\n",
              "      <td>U dun say so early hor... U c already then say...</td>\n",
              "    </tr>\n",
              "    <tr>\n",
              "      <th>4</th>\n",
              "      <td>0</td>\n",
              "      <td>Nah I don't think he goes to usf, he lives aro...</td>\n",
              "    </tr>\n",
              "  </tbody>\n",
              "</table>\n",
              "</div>"
            ],
            "text/plain": [
              "   Target                                               Text\n",
              "0       0  Go until jurong point, crazy.. Available only ...\n",
              "1       0                      Ok lar... Joking wif u oni...\n",
              "2       1  Free entry in 2 a wkly comp to win FA Cup fina...\n",
              "3       0  U dun say so early hor... U c already then say...\n",
              "4       0  Nah I don't think he goes to usf, he lives aro..."
            ]
          },
          "execution_count": 16,
          "metadata": {},
          "output_type": "execute_result"
        }
      ],
      "source": [
        "df.head()"
      ]
    },
    {
      "cell_type": "code",
      "execution_count": null,
      "id": "121185eb",
      "metadata": {
        "execution": {
          "iopub.execute_input": "2024-04-12T05:27:38.523904Z",
          "iopub.status.busy": "2024-04-12T05:27:38.523138Z",
          "iopub.status.idle": "2024-04-12T05:27:38.533749Z",
          "shell.execute_reply": "2024-04-12T05:27:38.532252Z"
        },
        "id": "121185eb",
        "outputId": "907f7053-f021-4a80-ed9c-fad21a4061cb",
        "papermill": {
          "duration": 0.032374,
          "end_time": "2024-04-12T05:27:38.536159",
          "exception": false,
          "start_time": "2024-04-12T05:27:38.503785",
          "status": "completed"
        },
        "tags": []
      },
      "outputs": [
        {
          "data": {
            "text/plain": [
              "Target\n",
              "0    4516\n",
              "1     653\n",
              "Name: count, dtype: int64"
            ]
          },
          "execution_count": 17,
          "metadata": {},
          "output_type": "execute_result"
        }
      ],
      "source": [
        "# Ham and Spam count\n",
        "df['Target'].value_counts()"
      ]
    },
    {
      "cell_type": "code",
      "execution_count": null,
      "id": "f0f503ce",
      "metadata": {
        "execution": {
          "iopub.execute_input": "2024-04-12T05:27:38.574240Z",
          "iopub.status.busy": "2024-04-12T05:27:38.573646Z",
          "iopub.status.idle": "2024-04-12T05:27:38.772974Z",
          "shell.execute_reply": "2024-04-12T05:27:38.771397Z"
        },
        "id": "f0f503ce",
        "outputId": "c8056e95-bad4-446a-979f-00e0b672fb8a",
        "papermill": {
          "duration": 0.22331,
          "end_time": "2024-04-12T05:27:38.777141",
          "exception": false,
          "start_time": "2024-04-12T05:27:38.553831",
          "status": "completed"
        },
        "tags": []
      },
      "outputs": [
        {
          "data": {
            "image/png": "[encoded data removed]",
            "text/plain": [
              "<Figure size 640x480 with 1 Axes>"
            ]
          },
          "metadata": {},
          "output_type": "display_data"
        }
      ],
      "source": [
        "# Check the Target value using pie chart\n",
        "plt.pie(df['Target'].value_counts(), labels=['Ham','Spam'],autopct='%.2f')\n",
        "plt.show()"
      ]
    },
    {
      "cell_type": "markdown",
      "id": "20a98b44",
      "metadata": {
        "id": "20a98b44",
        "papermill": {
          "duration": 0.019226,
          "end_time": "2024-04-12T05:27:38.835534",
          "exception": false,
          "start_time": "2024-04-12T05:27:38.816308",
          "status": "completed"
        },
        "tags": []
      },
      "source": [
        "**DATA PREPROCESSING**"
      ]
    },
    {
      "cell_type": "code",
      "execution_count": null,
      "id": "d8b2a939",
      "metadata": {
        "execution": {
          "iopub.execute_input": "2024-04-12T05:27:38.933182Z",
          "iopub.status.busy": "2024-04-12T05:27:38.932544Z",
          "iopub.status.idle": "2024-04-12T05:27:40.066706Z",
          "shell.execute_reply": "2024-04-12T05:27:40.065209Z"
        },
        "id": "d8b2a939",
        "outputId": "8d2306e8-179a-41e6-cb95-8b23ba2ab6c3",
        "papermill": {
          "duration": 1.216491,
          "end_time": "2024-04-12T05:27:40.069815",
          "exception": false,
          "start_time": "2024-04-12T05:27:38.853324",
          "status": "completed"
        },
        "tags": []
      },
      "outputs": [
        {
          "name": "stdout",
          "output_type": "stream",
          "text": [
            "[nltk_data] Downloading package punkt to /usr/share/nltk_data...\n",
            "[nltk_data]   Package punkt is already up-to-date!\n",
            "[nltk_data] Downloading package stopwords to /usr/share/nltk_data...\n",
            "[nltk_data]   Package stopwords is already up-to-date!\n"
          ]
        }
      ],
      "source": [
        "import nltk\n",
        "nltk.download('punkt')\n",
        "from nltk.corpus import stopwords\n",
        "nltk.download('stopwords')\n",
        "import string\n",
        "string.punctuation\n",
        "from nltk.stem.porter import PorterStemmer"
      ]
    },
    {
      "cell_type": "code",
      "execution_count": null,
      "id": "b2a6271a",
      "metadata": {
        "execution": {
          "iopub.execute_input": "2024-04-12T05:27:40.111751Z",
          "iopub.status.busy": "2024-04-12T05:27:40.110989Z",
          "iopub.status.idle": "2024-04-12T05:27:40.122378Z",
          "shell.execute_reply": "2024-04-12T05:27:40.121021Z"
        },
        "id": "b2a6271a",
        "papermill": {
          "duration": 0.035167,
          "end_time": "2024-04-12T05:27:40.125502",
          "exception": false,
          "start_time": "2024-04-12T05:27:40.090335",
          "status": "completed"
        },
        "tags": []
      },
      "outputs": [],
      "source": [
        "# Converting the text in lowercase\n",
        "def process_text(text):\n",
        "  text=text.lower()\n",
        "\n",
        "#tokenization\n",
        "  text=nltk.word_tokenize(text)\n",
        "\n",
        "# removing stopwords an punctuation\n",
        "  x=[]\n",
        "  for i in text:\n",
        "      if i not in stopwords.words('english') and i not in string.punctuation:\n",
        "        x.append(i)\n",
        "\n",
        "  text=x[:]\n",
        "  x.clear()\n",
        "\n",
        "# stemming\n",
        "  ps=PorterStemmer()\n",
        "  for i in text:\n",
        "    x.append(ps.stem(i))\n",
        "\n",
        "\n",
        "  return \" \".join(x)\n"
      ]
    },
    {
      "cell_type": "code",
      "execution_count": null,
      "id": "725aad32",
      "metadata": {
        "execution": {
          "iopub.execute_input": "2024-04-12T05:27:40.175426Z",
          "iopub.status.busy": "2024-04-12T05:27:40.174689Z",
          "iopub.status.idle": "2024-04-12T05:27:58.764956Z",
          "shell.execute_reply": "2024-04-12T05:27:58.763539Z"
        },
        "id": "725aad32",
        "papermill": {
          "duration": 18.619534,
          "end_time": "2024-04-12T05:27:58.767812",
          "exception": false,
          "start_time": "2024-04-12T05:27:40.148278",
          "status": "completed"
        },
        "tags": []
      },
      "outputs": [],
      "source": [
        "df['Transformed_text']=df['Text'].apply(process_text)"
      ]
    },
    {
      "cell_type": "code",
      "execution_count": null,
      "id": "351d3f6f",
      "metadata": {
        "execution": {
          "iopub.execute_input": "2024-04-12T05:27:58.805962Z",
          "iopub.status.busy": "2024-04-12T05:27:58.805555Z",
          "iopub.status.idle": "2024-04-12T05:27:58.821843Z",
          "shell.execute_reply": "2024-04-12T05:27:58.820621Z"
        },
        "id": "351d3f6f",
        "outputId": "e1c21f9f-b5aa-4f14-ab89-9016d8d554e7",
        "papermill": {
          "duration": 0.038629,
          "end_time": "2024-04-12T05:27:58.824729",
          "exception": false,
          "start_time": "2024-04-12T05:27:58.786100",
          "status": "completed"
        },
        "tags": []
      },
      "outputs": [
        {
          "data": {
            "text/html": [
              "<div>\n",
              "<style scoped>\n",
              "    .dataframe tbody tr th:only-of-type {\n",
              "        vertical-align: middle;\n",
              "    }\n",
              "\n",
              "    .dataframe tbody tr th {\n",
              "        vertical-align: top;\n",
              "    }\n",
              "\n",
              "    .dataframe thead th {\n",
              "        text-align: right;\n",
              "    }\n",
              "</style>\n",
              "<table border=\"1\" class=\"dataframe\">\n",
              "  <thead>\n",
              "    <tr style=\"text-align: right;\">\n",
              "      <th></th>\n",
              "      <th>Target</th>\n",
              "      <th>Text</th>\n",
              "      <th>Transformed_text</th>\n",
              "    </tr>\n",
              "  </thead>\n",
              "  <tbody>\n",
              "    <tr>\n",
              "      <th>0</th>\n",
              "      <td>0</td>\n",
              "      <td>Go until jurong point, crazy.. Available only ...</td>\n",
              "      <td>go jurong point crazy.. avail bugi n great wor...</td>\n",
              "    </tr>\n",
              "    <tr>\n",
              "      <th>1</th>\n",
              "      <td>0</td>\n",
              "      <td>Ok lar... Joking wif u oni...</td>\n",
              "      <td>ok lar ... joke wif u oni ...</td>\n",
              "    </tr>\n",
              "    <tr>\n",
              "      <th>2</th>\n",
              "      <td>1</td>\n",
              "      <td>Free entry in 2 a wkly comp to win FA Cup fina...</td>\n",
              "      <td>free entri 2 wkli comp win fa cup final tkt 21...</td>\n",
              "    </tr>\n",
              "    <tr>\n",
              "      <th>3</th>\n",
              "      <td>0</td>\n",
              "      <td>U dun say so early hor... U c already then say...</td>\n",
              "      <td>u dun say earli hor ... u c alreadi say ...</td>\n",
              "    </tr>\n",
              "    <tr>\n",
              "      <th>4</th>\n",
              "      <td>0</td>\n",
              "      <td>Nah I don't think he goes to usf, he lives aro...</td>\n",
              "      <td>nah n't think goe usf live around though</td>\n",
              "    </tr>\n",
              "  </tbody>\n",
              "</table>\n",
              "</div>"
            ],
            "text/plain": [
              "   Target                                               Text  \\\n",
              "0       0  Go until jurong point, crazy.. Available only ...   \n",
              "1       0                      Ok lar... Joking wif u oni...   \n",
              "2       1  Free entry in 2 a wkly comp to win FA Cup fina...   \n",
              "3       0  U dun say so early hor... U c already then say...   \n",
              "4       0  Nah I don't think he goes to usf, he lives aro...   \n",
              "\n",
              "                                    Transformed_text  \n",
              "0  go jurong point crazy.. avail bugi n great wor...  \n",
              "1                      ok lar ... joke wif u oni ...  \n",
              "2  free entri 2 wkli comp win fa cup final tkt 21...  \n",
              "3        u dun say earli hor ... u c alreadi say ...  \n",
              "4           nah n't think goe usf live around though  "
            ]
          },
          "execution_count": 22,
          "metadata": {},
          "output_type": "execute_result"
        }
      ],
      "source": [
        "df.head()\n"
      ]
    },
    {
      "cell_type": "markdown",
      "id": "0d14db59",
      "metadata": {
        "id": "0d14db59",
        "papermill": {
          "duration": 0.01882,
          "end_time": "2024-04-12T05:27:58.862981",
          "exception": false,
          "start_time": "2024-04-12T05:27:58.844161",
          "status": "completed"
        },
        "tags": []
      },
      "source": [
        "**MODEL BUILDING**"
      ]
    },
    {
      "cell_type": "code",
      "execution_count": null,
      "id": "2f3a549c",
      "metadata": {
        "execution": {
          "iopub.execute_input": "2024-04-12T05:27:58.901325Z",
          "iopub.status.busy": "2024-04-12T05:27:58.900930Z",
          "iopub.status.idle": "2024-04-12T05:27:58.906188Z",
          "shell.execute_reply": "2024-04-12T05:27:58.905070Z"
        },
        "id": "2f3a549c",
        "papermill": {
          "duration": 0.027491,
          "end_time": "2024-04-12T05:27:58.908732",
          "exception": false,
          "start_time": "2024-04-12T05:27:58.881241",
          "status": "completed"
        },
        "tags": []
      },
      "outputs": [],
      "source": [
        "from sklearn.feature_extraction.text import TfidfVectorizer"
      ]
    },
    {
      "cell_type": "code",
      "execution_count": null,
      "id": "9bf60ba3",
      "metadata": {
        "execution": {
          "iopub.execute_input": "2024-04-12T05:27:58.947730Z",
          "iopub.status.busy": "2024-04-12T05:27:58.947066Z",
          "iopub.status.idle": "2024-04-12T05:27:58.952823Z",
          "shell.execute_reply": "2024-04-12T05:27:58.951522Z"
        },
        "id": "9bf60ba3",
        "papermill": {
          "duration": 0.028126,
          "end_time": "2024-04-12T05:27:58.955276",
          "exception": false,
          "start_time": "2024-04-12T05:27:58.927150",
          "status": "completed"
        },
        "tags": []
      },
      "outputs": [],
      "source": [
        "tfidf = TfidfVectorizer(max_features=3000)"
      ]
    },
    {
      "cell_type": "code",
      "execution_count": null,
      "id": "d4e4db59",
      "metadata": {
        "execution": {
          "iopub.execute_input": "2024-04-12T05:27:58.997353Z",
          "iopub.status.busy": "2024-04-12T05:27:58.996802Z",
          "iopub.status.idle": "2024-04-12T05:27:59.133231Z",
          "shell.execute_reply": "2024-04-12T05:27:59.131963Z"
        },
        "id": "d4e4db59",
        "outputId": "4e2e5f3e-5666-41be-fa4b-0cdce540f4f0",
        "papermill": {
          "duration": 0.161871,
          "end_time": "2024-04-12T05:27:59.135882",
          "exception": false,
          "start_time": "2024-04-12T05:27:58.974011",
          "status": "completed"
        },
        "tags": []
      },
      "outputs": [
        {
          "name": "stdout",
          "output_type": "stream",
          "text": [
            "Shape of X: (5169, 3000)\n"
          ]
        }
      ],
      "source": [
        "# Fit and transform the 'Transformed_text' column\n",
        "X = tfidf.fit_transform(df['Transformed_text'])\n",
        "\n",
        "\n",
        "print(\"Shape of X:\", X.shape)"
      ]
    },
    {
      "cell_type": "code",
      "execution_count": null,
      "id": "2a68cc47",
      "metadata": {
        "execution": {
          "iopub.execute_input": "2024-04-12T05:27:59.233167Z",
          "iopub.status.busy": "2024-04-12T05:27:59.232335Z",
          "iopub.status.idle": "2024-04-12T05:27:59.237373Z",
          "shell.execute_reply": "2024-04-12T05:27:59.236409Z"
        },
        "id": "2a68cc47",
        "papermill": {
          "duration": 0.029774,
          "end_time": "2024-04-12T05:27:59.239802",
          "exception": false,
          "start_time": "2024-04-12T05:27:59.210028",
          "status": "completed"
        },
        "tags": []
      },
      "outputs": [],
      "source": [
        "y = df['Target'].values"
      ]
    },
    {
      "cell_type": "code",
      "execution_count": null,
      "id": "0200db20",
      "metadata": {
        "execution": {
          "iopub.execute_input": "2024-04-12T05:27:59.282593Z",
          "iopub.status.busy": "2024-04-12T05:27:59.282091Z",
          "iopub.status.idle": "2024-04-12T05:27:59.287188Z",
          "shell.execute_reply": "2024-04-12T05:27:59.286050Z"
        },
        "id": "0200db20",
        "papermill": {
          "duration": 0.028988,
          "end_time": "2024-04-12T05:27:59.289904",
          "exception": false,
          "start_time": "2024-04-12T05:27:59.260916",
          "status": "completed"
        },
        "tags": []
      },
      "outputs": [],
      "source": [
        "from sklearn.model_selection import train_test_split"
      ]
    },
    {
      "cell_type": "code",
      "execution_count": null,
      "id": "2f98f7de",
      "metadata": {
        "execution": {
          "iopub.execute_input": "2024-04-12T05:27:59.330217Z",
          "iopub.status.busy": "2024-04-12T05:27:59.329497Z",
          "iopub.status.idle": "2024-04-12T05:27:59.543664Z",
          "shell.execute_reply": "2024-04-12T05:27:59.542272Z"
        },
        "id": "2f98f7de",
        "papermill": {
          "duration": 0.237802,
          "end_time": "2024-04-12T05:27:59.546452",
          "exception": false,
          "start_time": "2024-04-12T05:27:59.308650",
          "status": "completed"
        },
        "tags": []
      },
      "outputs": [],
      "source": [
        "X_train,X_test,y_train,y_test = train_test_split(X.toarray(),y,test_size=0.2,random_state=2)"
      ]
    },
    {
      "cell_type": "code",
      "execution_count": null,
      "id": "58862f51",
      "metadata": {
        "execution": {
          "iopub.execute_input": "2024-04-12T05:27:59.586398Z",
          "iopub.status.busy": "2024-04-12T05:27:59.585990Z",
          "iopub.status.idle": "2024-04-12T05:27:59.594779Z",
          "shell.execute_reply": "2024-04-12T05:27:59.593563Z"
        },
        "id": "58862f51",
        "papermill": {
          "duration": 0.031353,
          "end_time": "2024-04-12T05:27:59.597431",
          "exception": false,
          "start_time": "2024-04-12T05:27:59.566078",
          "status": "completed"
        },
        "tags": []
      },
      "outputs": [],
      "source": [
        "from sklearn.naive_bayes import GaussianNB,BernoulliNB,MultinomialNB\n",
        "from sklearn.metrics import accuracy_score,precision_score"
      ]
    },
    {
      "cell_type": "code",
      "execution_count": null,
      "id": "7a28ed48",
      "metadata": {
        "execution": {
          "iopub.execute_input": "2024-04-12T05:27:59.639854Z",
          "iopub.status.busy": "2024-04-12T05:27:59.639466Z",
          "iopub.status.idle": "2024-04-12T05:27:59.930907Z",
          "shell.execute_reply": "2024-04-12T05:27:59.928711Z"
        },
        "id": "7a28ed48",
        "outputId": "016f8f22-4bd1-490f-e3bb-4c47c252048e",
        "papermill": {
          "duration": 0.316684,
          "end_time": "2024-04-12T05:27:59.933949",
          "exception": false,
          "start_time": "2024-04-12T05:27:59.617265",
          "status": "completed"
        },
        "tags": []
      },
      "outputs": [
        {
          "name": "stdout",
          "output_type": "stream",
          "text": [
            "0.8733075435203095\n",
            "0.5150214592274678\n"
          ]
        }
      ],
      "source": [
        "gnb = GaussianNB()\n",
        "gnb.fit(X_train,y_train)\n",
        "y_pred1 = gnb.predict(X_test)\n",
        "\n",
        "print(accuracy_score(y_test,y_pred1))\n",
        "print(precision_score(y_test,y_pred1))"
      ]
    },
    {
      "cell_type": "code",
      "execution_count": null,
      "id": "558e8875",
      "metadata": {
        "execution": {
          "iopub.execute_input": "2024-04-12T05:27:59.974885Z",
          "iopub.status.busy": "2024-04-12T05:27:59.974246Z",
          "iopub.status.idle": "2024-04-12T05:28:00.157532Z",
          "shell.execute_reply": "2024-04-12T05:28:00.155569Z"
        },
        "id": "558e8875",
        "outputId": "550ee975-d969-4bdb-d48b-5707753fa901",
        "papermill": {
          "duration": 0.2088,
          "end_time": "2024-04-12T05:28:00.161818",
          "exception": false,
          "start_time": "2024-04-12T05:27:59.953018",
          "status": "completed"
        },
        "tags": []
      },
      "outputs": [
        {
          "name": "stdout",
          "output_type": "stream",
          "text": [
            "0.9864603481624759\n",
            "1.0\n"
          ]
        }
      ],
      "source": [
        "bnb = BernoulliNB()\n",
        "bnb.fit(X_train,y_train)\n",
        "y_pred2 = bnb.predict(X_test)\n",
        "\n",
        "print(accuracy_score(y_test,y_pred2))\n",
        "print(precision_score(y_test,y_pred2))"
      ]
    },
    {
      "cell_type": "code",
      "execution_count": null,
      "id": "ca457cfe",
      "metadata": {
        "execution": {
          "iopub.execute_input": "2024-04-12T05:28:00.246245Z",
          "iopub.status.busy": "2024-04-12T05:28:00.245550Z",
          "iopub.status.idle": "2024-04-12T05:28:00.328858Z",
          "shell.execute_reply": "2024-04-12T05:28:00.326686Z"
        },
        "id": "ca457cfe",
        "outputId": "e11f375b-7d6b-4017-a5db-ee51eafff382",
        "papermill": {
          "duration": 0.131503,
          "end_time": "2024-04-12T05:28:00.333714",
          "exception": false,
          "start_time": "2024-04-12T05:28:00.202211",
          "status": "completed"
        },
        "tags": []
      },
      "outputs": [
        {
          "name": "stdout",
          "output_type": "stream",
          "text": [
            "0.9748549323017408\n",
            "1.0\n"
          ]
        }
      ],
      "source": [
        "mnb = MultinomialNB()\n",
        "mnb.fit(X_train,y_train)\n",
        "y_pred3 = mnb.predict(X_test)\n",
        "\n",
        "print(accuracy_score(y_test,y_pred3))\n",
        "print(precision_score(y_test,y_pred3))"
      ]
    }
  ],
  "metadata": {
    "colab": {
      "provenance": []
    },
    "kaggle": {
      "accelerator": "none",
      "dataSources": [
        {
          "datasetId": 483,
          "sourceId": 982,
          "sourceType": "datasetVersion"
        }
      ],
      "dockerImageVersionId": 30684,
      "isGpuEnabled": false,
      "isInternetEnabled": true,
      "language": "python",
      "sourceType": "notebook"
    },
    "kernelspec": {
      "display_name": "Python 3",
      "language": "python",
      "name": "python3"
    },
    "language_info": {
      "codemirror_mode": {
        "name": "ipython",
        "version": 3
      },
      "file_extension": ".py",
      "mimetype": "text/x-python",
      "name": "python",
      "nbconvert_exporter": "python",
      "pygments_lexer": "ipython3",
      "version": "3.10.13"
    },
    "papermill": {
      "default_parameters": {},
      "duration": 30.03295,
      "end_time": "2024-04-12T05:28:01.111249",
      "environment_variables": {},
      "exception": null,
      "input_path": "__notebook__.ipynb",
      "output_path": "__notebook__.ipynb",
      "parameters": {},
      "start_time": "2024-04-12T05:27:31.078299",
      "version": "2.5.0"
    }
  },
  "nbformat": 4,
  "nbformat_minor": 5
}
